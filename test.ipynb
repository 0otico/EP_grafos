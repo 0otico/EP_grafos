{
 "cells": [
  {
   "cell_type": "code",
   "execution_count": 33,
   "id": "dbfc9a2f",
   "metadata": {},
   "outputs": [
    {
     "ename": "TypeError",
     "evalue": "'NoneType' object is not subscriptable",
     "output_type": "error",
     "traceback": [
      "\u001b[1;31m---------------------------------------------------------------------------\u001b[0m",
      "\u001b[1;31mTypeError\u001b[0m                                 Traceback (most recent call last)",
      "\u001b[1;32mc:\\Users\\guilh\\Desktop\\EP_grafos-main\\test.ipynb Cell 1\u001b[0m line \u001b[0;36m2\n\u001b[0;32m     <a href='vscode-notebook-cell:/c%3A/Users/guilh/Desktop/EP_grafos-main/test.ipynb#W4sZmlsZQ%3D%3D?line=15'>16</a>\u001b[0m Tgrafo \u001b[39m=\u001b[39m grafos\u001b[39m.\u001b[39maddedge(Tgrafo,\u001b[39m6\u001b[39m,\u001b[39m1\u001b[39m)\n\u001b[0;32m     <a href='vscode-notebook-cell:/c%3A/Users/guilh/Desktop/EP_grafos-main/test.ipynb#W4sZmlsZQ%3D%3D?line=16'>17</a>\u001b[0m Tcolor \u001b[39m=\u001b[39m \u001b[39m6\u001b[39m\n\u001b[1;32m---> <a href='vscode-notebook-cell:/c%3A/Users/guilh/Desktop/EP_grafos-main/test.ipynb#W4sZmlsZQ%3D%3D?line=20'>21</a>\u001b[0m simulador(Tgrafo, Tcolor, Tritmo, Tlimiar, Tfiltro, Tfinal)\n",
      "File \u001b[1;32mc:\\Users\\guilh\\Desktop\\EP_grafos-main\\simulador.py:74\u001b[0m, in \u001b[0;36msimulador\u001b[1;34m(G, K, Tfim, Tritmo, Tlimiar, Tfiltro)\u001b[0m\n\u001b[0;32m     71\u001b[0m \u001b[39mif\u001b[39;00m event\u001b[39m.\u001b[39mkind(EventoAtual) \u001b[39m==\u001b[39m \u001b[39m\"\u001b[39m\u001b[39mavaliação\u001b[39m\u001b[39m\"\u001b[39m: \u001b[39m#se o proximo evento for avaliação\u001b[39;00m\n\u001b[0;32m     73\u001b[0m     avaliado \u001b[39m=\u001b[39m pop\u001b[39m.\u001b[39mident(população, event\u001b[39m.\u001b[39mident(EventoAtual)) \u001b[39m#define o indivíduo a ser avaliado\u001b[39;00m\n\u001b[1;32m---> 74\u001b[0m     A \u001b[39m=\u001b[39m ind\u001b[39m.\u001b[39;49mcoef(avaliado) \u001b[39m#calcula o coeficiente de adaptação do avaliado\u001b[39;00m\n\u001b[0;32m     75\u001b[0m     I \u001b[39m=\u001b[39m CurrentTime \u001b[39m-\u001b[39m ind\u001b[39m.\u001b[39midade(avaliado) \u001b[39m#calcula a idade do avaliado\u001b[39;00m\n\u001b[0;32m     77\u001b[0m     \u001b[39mif\u001b[39;00m random\u001b[39m.\u001b[39mrandom() \u001b[39m<\u001b[39m (\u001b[39m1\u001b[39m\u001b[39m-\u001b[39m(\u001b[39m2\u001b[39m\u001b[39m/\u001b[39mpi)\u001b[39m*\u001b[39matan((\u001b[39m1\u001b[39m\u001b[39m+\u001b[39mA)\u001b[39m*\u001b[39m\u001b[39m*\u001b[39m(\u001b[39m1\u001b[39m\u001b[39m+\u001b[39m\u001b[39m8\u001b[39m\u001b[39m/\u001b[39m(\u001b[39m1\u001b[39m\u001b[39m+\u001b[39mI)))): \u001b[39m#probabilidade do avaliado morrer\u001b[39;00m\n",
      "File \u001b[1;32mc:\\Users\\guilh\\Desktop\\EP_grafos-main\\indivíduos.py:12\u001b[0m, in \u001b[0;36mcoef\u001b[1;34m(i)\u001b[0m\n\u001b[0;32m     11\u001b[0m \u001b[39mdef\u001b[39;00m \u001b[39mcoef\u001b[39m(i):\n\u001b[1;32m---> 12\u001b[0m     \u001b[39mif\u001b[39;00m color\u001b[39m.\u001b[39mnum_erros(i[\u001b[39m0\u001b[39;49m])\u001b[39m==\u001b[39m\u001b[39m0\u001b[39m:\n\u001b[0;32m     13\u001b[0m         \u001b[39mreturn\u001b[39;00m graph\u001b[39m.\u001b[39mdim(color\u001b[39m.\u001b[39mgrafo(i[\u001b[39m0\u001b[39m]))\u001b[39m/\u001b[39mcolor\u001b[39m.\u001b[39mnum_cores(i[\u001b[39m0\u001b[39m])\n\u001b[0;32m     14\u001b[0m     \u001b[39melse\u001b[39;00m:\n",
      "\u001b[1;31mTypeError\u001b[0m: 'NoneType' object is not subscriptable"
     ]
    }
   ],
   "source": [
    "from simulador import simulador\n",
    "import grafos \n",
    "import colorações  as col\n",
    "\n",
    "Tritmo = 1.0\n",
    "Tlimiar = 0.5\n",
    "Tfiltro = 2.0\n",
    "Tfinal = 10.0\n",
    "Tgrafo = grafos.new(6)\n",
    "x = 1\n",
    "y = 2\n",
    "while x < 6:\n",
    "    Tgrafo = grafos.addedge(Tgrafo,x,y)\n",
    "    x += 1\n",
    "    y += 1\n",
    "Tgrafo = grafos.addedge(Tgrafo,6,1)\n",
    "Tcolor = 6\n",
    "    \n",
    "\n",
    "\n",
    "simulador(Tgrafo, Tcolor, Tritmo, Tlimiar, Tfiltro, Tfinal)\n"
   ]
  },
  {
   "cell_type": "code",
   "execution_count": 41,
   "id": "e3b4adef",
   "metadata": {},
   "outputs": [
    {
     "name": "stdout",
     "output_type": "stream",
     "text": [
      "[1, 2, 3, 4, 5]\n"
     ]
    }
   ],
   "source": [
    "cores = [x+1 for x in range(5)]\n",
    "print (cores)"
   ]
  },
  {
   "cell_type": "code",
   "execution_count": null,
   "id": "fcd50ab3",
   "metadata": {},
   "outputs": [],
   "source": []
  },
  {
   "cell_type": "code",
   "execution_count": null,
   "id": "237108f3",
   "metadata": {},
   "outputs": [],
   "source": []
  }
 ],
 "metadata": {
  "kernelspec": {
   "display_name": "Python 3 (ipykernel)",
   "language": "python",
   "name": "python3"
  },
  "language_info": {
   "codemirror_mode": {
    "name": "ipython",
    "version": 3
   },
   "file_extension": ".py",
   "mimetype": "text/x-python",
   "name": "python",
   "nbconvert_exporter": "python",
   "pygments_lexer": "ipython3",
   "version": "3.10.6"
  }
 },
 "nbformat": 4,
 "nbformat_minor": 5
}
