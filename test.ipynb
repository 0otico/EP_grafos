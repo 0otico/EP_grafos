{
 "cells": [
  {
   "cell_type": "code",
   "execution_count": 20,
   "id": "dbfc9a2f",
   "metadata": {},
   "outputs": [
    {
     "name": "stdout",
     "output_type": "stream",
     "text": [
      "(1, 1)\n",
      "(2, 2)\n",
      "(3, 1)\n",
      "(4, 2)\n",
      "(5, 2)\n",
      "(6, 1)\n"
     ]
    }
   ],
   "source": [
    "from simulador import simulador\n",
    "import grafos \n",
    "import colorações  as col\n",
    "\n",
    "Tritmo = 50.5\n",
    "Tlimiar = 0.5\n",
    "Tfiltro = 1.0\n",
    "Tfim = 25.0\n",
    "Tgrafo = grafos.new(6)\n",
    "x = 1\n",
    "y = 2\n",
    "while x < 6:\n",
    "    Tgrafo = grafos.addedge(Tgrafo,x,y)\n",
    "    x += 1\n",
    "    y += 1\n",
    "Tgrafo = grafos.addedge(Tgrafo,6,1)\n",
    "Tcolor = 100\n",
    "    \n",
    "\n",
    "simulador(Tgrafo, Tcolor, Tfim, Tritmo, Tlimiar, Tfiltro)"
   ]
  },
  {
   "cell_type": "code",
   "execution_count": 41,
   "id": "e3b4adef",
   "metadata": {},
   "outputs": [
    {
     "name": "stdout",
     "output_type": "stream",
     "text": [
      "[1, 2, 3, 4, 5]\n"
     ]
    }
   ],
   "source": [
    "cores = [x+1 for x in range(5)]\n",
    "print (cores)"
   ]
  },
  {
   "cell_type": "code",
   "execution_count": null,
   "id": "fcd50ab3",
   "metadata": {},
   "outputs": [],
   "source": []
  },
  {
   "cell_type": "code",
   "execution_count": null,
   "id": "237108f3",
   "metadata": {},
   "outputs": [],
   "source": []
  }
 ],
 "metadata": {
  "kernelspec": {
   "display_name": "Python 3 (ipykernel)",
   "language": "python",
   "name": "python3"
  },
  "language_info": {
   "codemirror_mode": {
    "name": "ipython",
    "version": 3
   },
   "file_extension": ".py",
   "mimetype": "text/x-python",
   "name": "python",
   "nbconvert_exporter": "python",
   "pygments_lexer": "ipython3",
   "version": "3.10.6"
  }
 },
 "nbformat": 4,
 "nbformat_minor": 5
}
