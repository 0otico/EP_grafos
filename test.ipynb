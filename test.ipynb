{
 "cells": [
  {
   "cell_type": "code",
   "execution_count": 3,
   "id": "dbfc9a2f",
   "metadata": {},
   "outputs": [
    {
     "name": "stdout",
     "output_type": "stream",
     "text": [
      "[[[[2, 6], [1, 3], [2, 4], [3, 5], [4, 6], [1, 5]], [1, 2, 3, 4, 5, 6]], 0, 1]\n",
      "[[[[[2, 6], [1, 3], [2, 4], [3, 5], [4, 6], [1, 5]], [1, 2, 3, 4, 5, 6]], 0, 1], [[[[2, 6], [1, 3], [2, 4], [3, 5], [4, 6], [1, 5]], [1, 2, 3, 4, 5, 6]], 0, 2], [[[[2, 6], [1, 3], [2, 4], [3, 5], [4, 6], [1, 5]], [1, 2, 3, 4, 5, 6]], 0, 3], [[[[2, 6], [1, 3], [2, 4], [3, 5], [4, 6], [1, 5]], [1, 2, 6, 4, 5, 6]], 2.6133416436651373, 4], [[[[2, 6], [1, 3], [2, 4], [3, 5], [4, 6], [1, 5]], [1, 2, 3, 3, 5, 6]], 11.644724448797826, 5]]\n",
      "[[[[2, 6], [1, 3], [2, 4], [3, 5], [4, 6], [1, 5]], [1, 2, 3, 4, 5, 6]], 0, 1]\n",
      "1.0\n",
      "[[[[2, 6], [1, 3], [2, 4], [3, 5], [4, 6], [1, 5]], [1, 2, 3, 4, 5, 6]], 0, 1]\n",
      "5\n",
      "[[[[2, 6], [1, 3], [2, 4], [3, 5], [4, 6], [1, 5]], [1, 2, 3, 4, 5, 6]], 0, 1]\n",
      "[[[2, 6], [1, 3], [2, 4], [3, 5], [4, 6], [1, 5]], [1, 2, 3, 4, 5, 6]]\n",
      "[[[[2, 6], [1, 3], [2, 4], [3, 5], [4, 6], [1, 5]], [1, 2, 3, 4, 5, 6]], 0, 1]\n"
     ]
    },
    {
     "ename": "IndexError",
     "evalue": "list index out of range",
     "output_type": "error",
     "traceback": [
      "\u001b[1;31m---------------------------------------------------------------------------\u001b[0m",
      "\u001b[1;31mIndexError\u001b[0m                                Traceback (most recent call last)",
      "\u001b[1;32mc:\\Users\\guilh\\Desktop\\EP_grafos-main\\test.ipynb Cell 1\u001b[0m line \u001b[0;36m2\n\u001b[0;32m     <a href='vscode-notebook-cell:/c%3A/Users/guilh/Desktop/EP_grafos-main/test.ipynb#W0sZmlsZQ%3D%3D?line=15'>16</a>\u001b[0m Tgrafo \u001b[39m=\u001b[39m grafos\u001b[39m.\u001b[39maddedge(Tgrafo,\u001b[39m6\u001b[39m,\u001b[39m1\u001b[39m)\n\u001b[0;32m     <a href='vscode-notebook-cell:/c%3A/Users/guilh/Desktop/EP_grafos-main/test.ipynb#W0sZmlsZQ%3D%3D?line=16'>17</a>\u001b[0m Tcolor \u001b[39m=\u001b[39m \u001b[39m3\u001b[39m\n\u001b[1;32m---> <a href='vscode-notebook-cell:/c%3A/Users/guilh/Desktop/EP_grafos-main/test.ipynb#W0sZmlsZQ%3D%3D?line=19'>20</a>\u001b[0m simulador(Tgrafo, Tcolor, Tfim, Tritmo, Tlimiar, Tfiltro)\n",
      "File \u001b[1;32mc:\\Users\\guilh\\Desktop\\EP_grafos-main\\simulador.py:129\u001b[0m, in \u001b[0;36msimulador\u001b[1;34m(G, K, Tfim, Tritmo, Tlimiar, Tfiltro)\u001b[0m\n\u001b[0;32m    127\u001b[0m \u001b[39mwhile\u001b[39;00m pop\u001b[39m.\u001b[39mdim(população) \u001b[39m>\u001b[39m K\u001b[39m*\u001b[39m(\u001b[39m3\u001b[39m\u001b[39m/\u001b[39m\u001b[39m2\u001b[39m) \u001b[39mand\u001b[39;00m (pop\u001b[39m.\u001b[39mdim(população)\u001b[39m!=\u001b[39m\u001b[39m0\u001b[39m): \u001b[39m#elimina os piores válidos, de forma a controlar o tamanho da população\u001b[39;00m\n\u001b[0;32m    128\u001b[0m     \u001b[39mprint\u001b[39m(pop\u001b[39m.\u001b[39mdim(população))\n\u001b[1;32m--> 129\u001b[0m     população \u001b[39m=\u001b[39m pop\u001b[39m.\u001b[39;49mkill(pop\u001b[39m.\u001b[39;49mworst(população), população) \u001b[39m#elimina o pior indivíduo\u001b[39;00m\n\u001b[0;32m    132\u001b[0m seleção \u001b[39m=\u001b[39m event\u001b[39m.\u001b[39mevent(\u001b[39m\"\u001b[39m\u001b[39mseleção\u001b[39m\u001b[39m\"\u001b[39m, \u001b[39mTrue\u001b[39;00m, CurrentTime \u001b[39m+\u001b[39m exprandom(Tfiltro)) \u001b[39m#próximo evento de seleção\u001b[39;00m\n\u001b[0;32m    133\u001b[0m CAP \u001b[39m=\u001b[39m cap\u001b[39m.\u001b[39madd(seleção, CAP)\n",
      "File \u001b[1;32mc:\\Users\\guilh\\Desktop\\EP_grafos-main\\população.py:63\u001b[0m, in \u001b[0;36mkill\u001b[1;34m(p, i)\u001b[0m\n\u001b[0;32m     61\u001b[0m \u001b[39mprint\u001b[39m(p)\n\u001b[0;32m     62\u001b[0m \u001b[39mwhile\u001b[39;00m n \u001b[39m<\u001b[39m dim(p):\n\u001b[1;32m---> 63\u001b[0m     \u001b[39mif\u001b[39;00m ind\u001b[39m.\u001b[39;49mident(p[n])\u001b[39m!=\u001b[39mind\u001b[39m.\u001b[39mident(i):\n\u001b[0;32m     64\u001b[0m         res\u001b[39m+\u001b[39m\u001b[39m=\u001b[39m[p[n]]\n\u001b[0;32m     65\u001b[0m     n \u001b[39m+\u001b[39m\u001b[39m=\u001b[39m \u001b[39m1\u001b[39m\n",
      "File \u001b[1;32mc:\\Users\\guilh\\Desktop\\EP_grafos-main\\indivíduos.py:31\u001b[0m, in \u001b[0;36mident\u001b[1;34m(i)\u001b[0m\n\u001b[0;32m     30\u001b[0m \u001b[39mdef\u001b[39;00m \u001b[39mident\u001b[39m(i):\n\u001b[1;32m---> 31\u001b[0m     \u001b[39mreturn\u001b[39;00m i[\u001b[39m2\u001b[39;49m]\n",
      "\u001b[1;31mIndexError\u001b[0m: list index out of range"
     ]
    }
   ],
   "source": [
    "from simulador import simulador\n",
    "import grafos \n",
    "import colorações  as col\n",
    "\n",
    "Tritmo = 10\n",
    "Tlimiar = 20000\n",
    "Tfiltro = 50\n",
    "Tfim = 100\n",
    "Tgrafo = grafos.new(6)\n",
    "x = 1\n",
    "y = 2\n",
    "while x < 6:\n",
    "    Tgrafo = grafos.addedge(Tgrafo,x,y)\n",
    "    x += 1\n",
    "    y += 1\n",
    "Tgrafo = grafos.addedge(Tgrafo,6,1)\n",
    "Tcolor = 3\n",
    "    \n",
    "\n",
    "simulador(Tgrafo, Tcolor, Tfim, Tritmo, Tlimiar, Tfiltro)"
   ]
  }
 ],
 "metadata": {
  "kernelspec": {
   "display_name": "Python 3 (ipykernel)",
   "language": "python",
   "name": "python3"
  },
  "language_info": {
   "codemirror_mode": {
    "name": "ipython",
    "version": 3
   },
   "file_extension": ".py",
   "mimetype": "text/x-python",
   "name": "python",
   "nbconvert_exporter": "python",
   "pygments_lexer": "ipython3",
   "version": "3.10.6"
  }
 },
 "nbformat": 4,
 "nbformat_minor": 5
}
