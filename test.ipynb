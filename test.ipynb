{
 "cells": [
  {
   "cell_type": "code",
   "execution_count": 1,
   "id": "dbfc9a2f",
   "metadata": {},
   "outputs": [
    {
     "ename": "IndexError",
     "evalue": "list index out of range",
     "output_type": "error",
     "traceback": [
      "\u001b[1;31m---------------------------------------------------------------------------\u001b[0m",
      "\u001b[1;31mIndexError\u001b[0m                                Traceback (most recent call last)",
      "Cell \u001b[1;32mIn[1], line 20\u001b[0m\n\u001b[0;32m     15\u001b[0m     y \u001b[38;5;241m+\u001b[39m\u001b[38;5;241m=\u001b[39m \u001b[38;5;241m1\u001b[39m\n\u001b[0;32m     16\u001b[0m Tcolor \u001b[38;5;241m=\u001b[39m col\u001b[38;5;241m.\u001b[39mnew(Tgrafo, [\u001b[38;5;241m1\u001b[39m,\u001b[38;5;241m2\u001b[39m,\u001b[38;5;241m3\u001b[39m,\u001b[38;5;241m4\u001b[39m,\u001b[38;5;241m5\u001b[39m,\u001b[38;5;241m6\u001b[39m])\n\u001b[1;32m---> 20\u001b[0m sim(Tritmo, Tlimiar, Tfiltro, Tfinal, Tgrafo, Tcolor)\n",
      "File \u001b[1;32m~\\Desktop\\EP_grafos-main\\simulation.py:66\u001b[0m, in \u001b[0;36msim\u001b[1;34m(Tritmo, Tlimiar, Tfiltro, Tfinal, Tgrafo, Tcolor)\u001b[0m\n\u001b[0;32m     64\u001b[0m \u001b[38;5;28;01mif\u001b[39;00m event\u001b[38;5;241m.\u001b[39mkind(e) \u001b[38;5;241m==\u001b[39m \u001b[38;5;124m\"\u001b[39m\u001b[38;5;124mavaliacao\u001b[39m\u001b[38;5;124m\"\u001b[39m: \u001b[38;5;66;03m#se o proximo evento for avaliacao\u001b[39;00m\n\u001b[0;32m     65\u001b[0m     idx \u001b[38;5;241m=\u001b[39m popu\u001b[38;5;241m.\u001b[39mident(p, event\u001b[38;5;241m.\u001b[39mident(e)) \u001b[38;5;66;03m#individuo a ser avaliado\u001b[39;00m\n\u001b[1;32m---> 66\u001b[0m     A \u001b[38;5;241m=\u001b[39m ind\u001b[38;5;241m.\u001b[39mcoef(idx) \u001b[38;5;66;03m#coeficiente de avaliacao do individuo do evento\u001b[39;00m\n\u001b[0;32m     68\u001b[0m     I \u001b[38;5;241m=\u001b[39m ct \u001b[38;5;241m-\u001b[39m ind\u001b[38;5;241m.\u001b[39midade(idx) \u001b[38;5;66;03m#idade do idividuo do evento\u001b[39;00m\n\u001b[0;32m     70\u001b[0m     \u001b[38;5;28;01mif\u001b[39;00m random() \u001b[38;5;241m<\u001b[39m\u001b[38;5;241m=\u001b[39m (\u001b[38;5;241m1\u001b[39m\u001b[38;5;241m-\u001b[39m(\u001b[38;5;241m2\u001b[39m\u001b[38;5;241m/\u001b[39mpi)\u001b[38;5;241m*\u001b[39mmath\u001b[38;5;241m.\u001b[39matan((\u001b[38;5;241m1\u001b[39m\u001b[38;5;241m+\u001b[39mA)\u001b[38;5;241m*\u001b[39m\u001b[38;5;241m*\u001b[39m(\u001b[38;5;241m1\u001b[39m\u001b[38;5;241m+\u001b[39m\u001b[38;5;241m8\u001b[39m\u001b[38;5;241m*\u001b[39m(\u001b[38;5;241m1\u001b[39m\u001b[38;5;241m+\u001b[39mI)))): \u001b[38;5;66;03m# a formula dame um valor de 0 a 1, que sera a probabilidade de ocorrer morte, se o numero aleatorio de 0 a 1 for menor ou igual a esse valor, ele morre.\u001b[39;00m\n",
      "File \u001b[1;32m~\\Desktop\\EP_grafos-main\\indivíduos.py:12\u001b[0m, in \u001b[0;36mcoef\u001b[1;34m(i)\u001b[0m\n\u001b[0;32m     11\u001b[0m \u001b[38;5;28;01mdef\u001b[39;00m \u001b[38;5;21mcoef\u001b[39m(i):\n\u001b[1;32m---> 12\u001b[0m     \u001b[38;5;28;01mif\u001b[39;00m color\u001b[38;5;241m.\u001b[39mnum_erros(i[\u001b[38;5;241m0\u001b[39m])\u001b[38;5;241m==\u001b[39m\u001b[38;5;241m0\u001b[39m:\n\u001b[0;32m     13\u001b[0m         \u001b[38;5;28;01mreturn\u001b[39;00m graph\u001b[38;5;241m.\u001b[39mdim(color\u001b[38;5;241m.\u001b[39mgrafo(i[\u001b[38;5;241m0\u001b[39m]))\u001b[38;5;241m/\u001b[39mcolor\u001b[38;5;241m.\u001b[39mnum_cores(i[\u001b[38;5;241m0\u001b[39m])\n\u001b[0;32m     14\u001b[0m     \u001b[38;5;28;01melse\u001b[39;00m:\n",
      "File \u001b[1;32m~\\Desktop\\EP_grafos-main\\colorações.py:28\u001b[0m, in \u001b[0;36mnum_erros\u001b[1;34m(c)\u001b[0m\n\u001b[0;32m     26\u001b[0m \u001b[38;5;28;01mwhile\u001b[39;00m j\u001b[38;5;241m<\u001b[39mgraph\u001b[38;5;241m.\u001b[39mdim(c[\u001b[38;5;241m0\u001b[39m]):\n\u001b[0;32m     27\u001b[0m     \u001b[38;5;28;01mif\u001b[39;00m graph\u001b[38;5;241m.\u001b[39medge(c[\u001b[38;5;241m0\u001b[39m],i\u001b[38;5;241m+\u001b[39m\u001b[38;5;241m1\u001b[39m,j\u001b[38;5;241m+\u001b[39m\u001b[38;5;241m1\u001b[39m): \u001b[38;5;66;03m#os pares (i+1,j+1) cobrem todos os pares de vértices de g\u001b[39;00m\n\u001b[1;32m---> 28\u001b[0m         \u001b[38;5;28;01mif\u001b[39;00m c[\u001b[38;5;241m1\u001b[39m][i]\u001b[38;5;241m==\u001b[39mc[\u001b[38;5;241m1\u001b[39m][j]: \u001b[38;5;66;03m#verifica se as cores de i+1 e de j+1 são iguais\u001b[39;00m\n\u001b[0;32m     29\u001b[0m             erros\u001b[38;5;241m+\u001b[39m\u001b[38;5;241m=\u001b[39m\u001b[38;5;241m1\u001b[39m \u001b[38;5;66;03m#se forem iguais, há um erro\u001b[39;00m\n\u001b[0;32m     30\u001b[0m     j\u001b[38;5;241m+\u001b[39m\u001b[38;5;241m=\u001b[39m\u001b[38;5;241m1\u001b[39m\n",
      "\u001b[1;31mIndexError\u001b[0m: list index out of range"
     ]
    }
   ],
   "source": [
    "from simulation import sim\n",
    "import grafos \n",
    "import colorações  as col\n",
    "\n",
    "Tritmo = 1.0\n",
    "Tlimiar = 0.5\n",
    "Tfiltro = 2.0\n",
    "Tfinal = 10.0\n",
    "Tgrafo = grafos.new(6)\n",
    "x = 1\n",
    "y = 2\n",
    "while x < 6:\n",
    "    Tgrafo = grafos.addedge(Tgrafo,x,y)\n",
    "    x += 1\n",
    "    y += 1\n",
    "Tcolor = col.new(Tgrafo, [1,2,3,4,5,6])\n",
    "    \n",
    "\n",
    "\n",
    "sim(Tritmo, Tlimiar, Tfiltro, Tfinal, Tgrafo, Tcolor)\n"
   ]
  },
  {
   "cell_type": "code",
   "execution_count": null,
   "id": "e3b4adef",
   "metadata": {},
   "outputs": [],
   "source": []
  },
  {
   "cell_type": "code",
   "execution_count": null,
   "id": "fcd50ab3",
   "metadata": {},
   "outputs": [],
   "source": []
  },
  {
   "cell_type": "code",
   "execution_count": null,
   "id": "237108f3",
   "metadata": {},
   "outputs": [],
   "source": []
  }
 ],
 "metadata": {
  "kernelspec": {
   "display_name": "Python 3 (ipykernel)",
   "language": "python",
   "name": "python3"
  },
  "language_info": {
   "codemirror_mode": {
    "name": "ipython",
    "version": 3
   },
   "file_extension": ".py",
   "mimetype": "text/x-python",
   "name": "python",
   "nbconvert_exporter": "python",
   "pygments_lexer": "ipython3",
   "version": "3.11.4"
  }
 },
 "nbformat": 4,
 "nbformat_minor": 5
}
